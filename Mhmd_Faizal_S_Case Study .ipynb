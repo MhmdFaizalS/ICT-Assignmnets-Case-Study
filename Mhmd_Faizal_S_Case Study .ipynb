{
 "cells": [
  {
   "cell_type": "markdown",
   "id": "79320851",
   "metadata": {},
   "source": [
    "### Importing Libraries "
   ]
  },
  {
   "cell_type": "code",
   "execution_count": 1,
   "id": "16f2c6cc",
   "metadata": {},
   "outputs": [],
   "source": [
    "import pandas as pd \n",
    "import numpy as np \n",
    "import matplotlib.pyplot as plt \n",
    "import seaborn as sns"
   ]
  },
  {
   "cell_type": "markdown",
   "id": "30573cc6",
   "metadata": {},
   "source": [
    "### Loading Dataset "
   ]
  },
  {
   "cell_type": "code",
   "execution_count": 2,
   "id": "8ee4282b",
   "metadata": {},
   "outputs": [],
   "source": [
    "data = pd.read_csv('Wine_clust.csv')"
   ]
  },
  {
   "cell_type": "code",
   "execution_count": 3,
   "id": "13d6efe2",
   "metadata": {},
   "outputs": [
    {
     "data": {
      "text/html": [
       "<div>\n",
       "<style scoped>\n",
       "    .dataframe tbody tr th:only-of-type {\n",
       "        vertical-align: middle;\n",
       "    }\n",
       "\n",
       "    .dataframe tbody tr th {\n",
       "        vertical-align: top;\n",
       "    }\n",
       "\n",
       "    .dataframe thead th {\n",
       "        text-align: right;\n",
       "    }\n",
       "</style>\n",
       "<table border=\"1\" class=\"dataframe\">\n",
       "  <thead>\n",
       "    <tr style=\"text-align: right;\">\n",
       "      <th></th>\n",
       "      <th>Alcohol</th>\n",
       "      <th>Malic_Acid</th>\n",
       "      <th>Ash</th>\n",
       "      <th>Ash_Alcanity</th>\n",
       "      <th>Magnesium</th>\n",
       "      <th>Total_Phenols</th>\n",
       "      <th>Flavanoids</th>\n",
       "      <th>Nonflavanoid_Phenols</th>\n",
       "      <th>Proanthocyanins</th>\n",
       "      <th>Color_Intensity</th>\n",
       "      <th>Hue</th>\n",
       "      <th>OD280</th>\n",
       "      <th>Proline</th>\n",
       "    </tr>\n",
       "  </thead>\n",
       "  <tbody>\n",
       "    <tr>\n",
       "      <th>0</th>\n",
       "      <td>14.23</td>\n",
       "      <td>1.71</td>\n",
       "      <td>2.43</td>\n",
       "      <td>15.6</td>\n",
       "      <td>127</td>\n",
       "      <td>2.80</td>\n",
       "      <td>3.06</td>\n",
       "      <td>0.28</td>\n",
       "      <td>2.29</td>\n",
       "      <td>5.64</td>\n",
       "      <td>1.04</td>\n",
       "      <td>3.92</td>\n",
       "      <td>1065</td>\n",
       "    </tr>\n",
       "    <tr>\n",
       "      <th>1</th>\n",
       "      <td>13.20</td>\n",
       "      <td>1.78</td>\n",
       "      <td>2.14</td>\n",
       "      <td>11.2</td>\n",
       "      <td>100</td>\n",
       "      <td>2.65</td>\n",
       "      <td>2.76</td>\n",
       "      <td>0.26</td>\n",
       "      <td>1.28</td>\n",
       "      <td>4.38</td>\n",
       "      <td>1.05</td>\n",
       "      <td>3.40</td>\n",
       "      <td>1050</td>\n",
       "    </tr>\n",
       "    <tr>\n",
       "      <th>2</th>\n",
       "      <td>13.16</td>\n",
       "      <td>2.36</td>\n",
       "      <td>2.67</td>\n",
       "      <td>18.6</td>\n",
       "      <td>101</td>\n",
       "      <td>2.80</td>\n",
       "      <td>3.24</td>\n",
       "      <td>0.30</td>\n",
       "      <td>2.81</td>\n",
       "      <td>5.68</td>\n",
       "      <td>1.03</td>\n",
       "      <td>3.17</td>\n",
       "      <td>1185</td>\n",
       "    </tr>\n",
       "    <tr>\n",
       "      <th>3</th>\n",
       "      <td>14.37</td>\n",
       "      <td>1.95</td>\n",
       "      <td>2.50</td>\n",
       "      <td>16.8</td>\n",
       "      <td>113</td>\n",
       "      <td>3.85</td>\n",
       "      <td>3.49</td>\n",
       "      <td>0.24</td>\n",
       "      <td>2.18</td>\n",
       "      <td>7.80</td>\n",
       "      <td>0.86</td>\n",
       "      <td>3.45</td>\n",
       "      <td>1480</td>\n",
       "    </tr>\n",
       "    <tr>\n",
       "      <th>4</th>\n",
       "      <td>13.24</td>\n",
       "      <td>2.59</td>\n",
       "      <td>2.87</td>\n",
       "      <td>21.0</td>\n",
       "      <td>118</td>\n",
       "      <td>2.80</td>\n",
       "      <td>2.69</td>\n",
       "      <td>0.39</td>\n",
       "      <td>1.82</td>\n",
       "      <td>4.32</td>\n",
       "      <td>1.04</td>\n",
       "      <td>2.93</td>\n",
       "      <td>735</td>\n",
       "    </tr>\n",
       "  </tbody>\n",
       "</table>\n",
       "</div>"
      ],
      "text/plain": [
       "   Alcohol  Malic_Acid   Ash  Ash_Alcanity  Magnesium  Total_Phenols  \\\n",
       "0    14.23        1.71  2.43          15.6        127           2.80   \n",
       "1    13.20        1.78  2.14          11.2        100           2.65   \n",
       "2    13.16        2.36  2.67          18.6        101           2.80   \n",
       "3    14.37        1.95  2.50          16.8        113           3.85   \n",
       "4    13.24        2.59  2.87          21.0        118           2.80   \n",
       "\n",
       "   Flavanoids  Nonflavanoid_Phenols  Proanthocyanins  Color_Intensity   Hue  \\\n",
       "0        3.06                  0.28             2.29             5.64  1.04   \n",
       "1        2.76                  0.26             1.28             4.38  1.05   \n",
       "2        3.24                  0.30             2.81             5.68  1.03   \n",
       "3        3.49                  0.24             2.18             7.80  0.86   \n",
       "4        2.69                  0.39             1.82             4.32  1.04   \n",
       "\n",
       "   OD280  Proline  \n",
       "0   3.92     1065  \n",
       "1   3.40     1050  \n",
       "2   3.17     1185  \n",
       "3   3.45     1480  \n",
       "4   2.93      735  "
      ]
     },
     "execution_count": 3,
     "metadata": {},
     "output_type": "execute_result"
    }
   ],
   "source": [
    "data.head()"
   ]
  },
  {
   "cell_type": "code",
   "execution_count": 4,
   "id": "acf5cfb0",
   "metadata": {},
   "outputs": [
    {
     "data": {
      "text/plain": [
       "(178, 13)"
      ]
     },
     "execution_count": 4,
     "metadata": {},
     "output_type": "execute_result"
    }
   ],
   "source": [
    "data.shape"
   ]
  },
  {
   "cell_type": "code",
   "execution_count": 5,
   "id": "091649d9",
   "metadata": {},
   "outputs": [
    {
     "data": {
      "text/plain": [
       "Alcohol                 float64\n",
       "Malic_Acid              float64\n",
       "Ash                     float64\n",
       "Ash_Alcanity            float64\n",
       "Magnesium                 int64\n",
       "Total_Phenols           float64\n",
       "Flavanoids              float64\n",
       "Nonflavanoid_Phenols    float64\n",
       "Proanthocyanins         float64\n",
       "Color_Intensity         float64\n",
       "Hue                     float64\n",
       "OD280                   float64\n",
       "Proline                   int64\n",
       "dtype: object"
      ]
     },
     "execution_count": 5,
     "metadata": {},
     "output_type": "execute_result"
    }
   ],
   "source": [
    "data.dtypes"
   ]
  },
  {
   "cell_type": "code",
   "execution_count": 6,
   "id": "1c041fc4",
   "metadata": {},
   "outputs": [
    {
     "data": {
      "image/png": "[encoded data removed]",
      "text/plain": [
       "<Figure size 1440x1080 with 16 Axes>"
      ]
     },
     "metadata": {
      "needs_background": "light"
     },
     "output_type": "display_data"
    }
   ],
   "source": [
    "freq_graph = data.select_dtypes(include = [\"float\", \"int\"])\n",
    "freq_graph.hist(figsize = (20, 15))\n",
    "plt.show()"
   ]
  },
  {
   "cell_type": "markdown",
   "id": "8a6664c3",
   "metadata": {},
   "source": [
    "### Preprocessing "
   ]
  },
  {
   "cell_type": "code",
   "execution_count": 7,
   "id": "6f9b9303",
   "metadata": {},
   "outputs": [
    {
     "data": {
      "text/plain": [
       "Alcohol                 0\n",
       "Malic_Acid              0\n",
       "Ash                     0\n",
       "Ash_Alcanity            0\n",
       "Magnesium               0\n",
       "Total_Phenols           0\n",
       "Flavanoids              0\n",
       "Nonflavanoid_Phenols    0\n",
       "Proanthocyanins         0\n",
       "Color_Intensity         0\n",
       "Hue                     0\n",
       "OD280                   0\n",
       "Proline                 0\n",
       "dtype: int64"
      ]
     },
     "execution_count": 7,
     "metadata": {},
     "output_type": "execute_result"
    }
   ],
   "source": [
    "data.isnull().sum()"
   ]
  },
  {
   "cell_type": "code",
   "execution_count": 8,
   "id": "60f128ac",
   "metadata": {},
   "outputs": [
    {
     "data": {
      "text/plain": [
       "Alcohol                 126\n",
       "Malic_Acid              133\n",
       "Ash                      79\n",
       "Ash_Alcanity             63\n",
       "Magnesium                53\n",
       "Total_Phenols            97\n",
       "Flavanoids              132\n",
       "Nonflavanoid_Phenols     39\n",
       "Proanthocyanins         101\n",
       "Color_Intensity         132\n",
       "Hue                      78\n",
       "OD280                   122\n",
       "Proline                 121\n",
       "dtype: int64"
      ]
     },
     "execution_count": 8,
     "metadata": {},
     "output_type": "execute_result"
    }
   ],
   "source": [
    "data.nunique()"
   ]
  },
  {
   "cell_type": "markdown",
   "id": "5cb3f13d",
   "metadata": {},
   "source": [
    "### Outlier Detection "
   ]
  },
  {
   "cell_type": "code",
   "execution_count": 9,
   "id": "22ed0d77",
   "metadata": {},
   "outputs": [
    {
     "data": {
      "image/png": "[encoded data removed]",
      "text/plain": [
       "<Figure size 432x288 with 1 Axes>"
      ]
     },
     "metadata": {
      "needs_background": "light"
     },
     "output_type": "display_data"
    },
    {
     "data": {
      "image/png": "[encoded data removed]",
      "text/plain": [
       "<Figure size 432x288 with 1 Axes>"
      ]
     },
     "metadata": {
      "needs_background": "light"
     },
     "output_type": "display_data"
    },
    {
     "data": {
      "image/png": "[encoded data removed]",
      "text/plain": [
       "<Figure size 432x288 with 1 Axes>"
      ]
     },
     "metadata": {
      "needs_background": "light"
     },
     "output_type": "display_data"
    },
    {
     "data": {
      "image/png": "[encoded data removed]",
      "text/plain": [
       "<Figure size 432x288 with 1 Axes>"
      ]
     },
     "metadata": {
      "needs_background": "light"
     },
     "output_type": "display_data"
    },
    {
     "data": {
      "image/png": "[encoded data removed]",
      "text/plain": [
       "<Figure size 432x288 with 1 Axes>"
      ]
     },
     "metadata": {
      "needs_background": "light"
     },
     "output_type": "display_data"
    },
    {
     "data": {
      "image/png": "[encoded data removed]",
      "text/plain": [
       "<Figure size 432x288 with 1 Axes>"
      ]
     },
     "metadata": {
      "needs_background": "light"
     },
     "output_type": "display_data"
    },
    {
     "data": {
      "image/png": "[encoded data removed]",
      "text/plain": [
       "<Figure size 432x288 with 1 Axes>"
      ]
     },
     "metadata": {
      "needs_background": "light"
     },
     "output_type": "display_data"
    },
    {
     "data": {
      "image/png": "[encoded data removed]",
      "text/plain": [
       "<Figure size 432x288 with 1 Axes>"
      ]
     },
     "metadata": {
      "needs_background": "light"
     },
     "output_type": "display_data"
    },
    {
     "data": {
      "image/png": "[encoded data removed]",
      "text/plain": [
       "<Figure size 432x288 with 1 Axes>"
      ]
     },
     "metadata": {
      "needs_background": "light"
     },
     "output_type": "display_data"
    },
    {
     "data": {
      "image/png": "[encoded data removed]",
      "text/plain": [
       "<Figure size 432x288 with 1 Axes>"
      ]
     },
     "metadata": {
      "needs_background": "light"
     },
     "output_type": "display_data"
    },
    {
     "data": {
      "image/png": "[encoded data removed]",
      "text/plain": [
       "<Figure size 432x288 with 1 Axes>"
      ]
     },
     "metadata": {
      "needs_background": "light"
     },
     "output_type": "display_data"
    },
    {
     "data": {
      "image/png": "[encoded data removed]",
      "text/plain": [
       "<Figure size 432x288 with 1 Axes>"
      ]
     },
     "metadata": {
      "needs_background": "light"
     },
     "output_type": "display_data"
    },
    {
     "data": {
      "image/png": "[encoded data removed]",
      "text/plain": [
       "<Figure size 432x288 with 1 Axes>"
      ]
     },
     "metadata": {
      "needs_background": "light"
     },
     "output_type": "display_data"
    }
   ],
   "source": [
    "for i in data.columns:\n",
    "    plt.boxplot(data[i])\n",
    "    plt.title(i)\n",
    "    plt.show()"
   ]
  },
  {
   "cell_type": "code",
   "execution_count": 10,
   "id": "6cb59bd6",
   "metadata": {},
   "outputs": [
    {
     "name": "stdout",
     "output_type": "stream",
     "text": [
      "Interquartile range: Alcohol \n",
      "\n",
      "Q1: 12.364999999999998\n",
      "Q2: 13.05\n",
      "Q3: 13.675\n",
      "\n",
      "IQR:1.3100000000000023\n",
      "\n",
      "Lower limit : 10.399999999999995\n",
      "Upper limit : 15.640000000000004\n",
      "\n",
      "Outlier: []\n",
      "\n",
      "Indexes greater than upperlimit: Int64Index([], dtype='int64')\n",
      "\n",
      "Indexes less than lowerlimit: Int64Index([], dtype='int64')\n",
      "\n",
      "\n",
      "\n",
      "\n",
      "Interquartile range: Malic_Acid \n",
      "\n",
      "Q1: 1.605\n",
      "Q2: 1.8650000000000002\n",
      "Q3: 3.065\n",
      "\n",
      "IQR:1.46\n",
      "\n",
      "Lower limit : -0.585\n",
      "Upper limit : 5.255\n",
      "\n",
      "Outlier: [5.8, 5.51, 5.65]\n",
      "\n",
      "Indexes greater than upperlimit: Int64Index([123, 137, 173], dtype='int64')\n",
      "\n",
      "Indexes less than lowerlimit: Int64Index([], dtype='int64')\n",
      "\n",
      "\n",
      "\n",
      "\n",
      "Interquartile range: Ash \n",
      "\n",
      "Q1: 2.21\n",
      "Q2: 2.36\n",
      "Q3: 2.5549999999999997\n",
      "\n",
      "IQR:0.34499999999999975\n",
      "\n",
      "Lower limit : 1.6925000000000003\n",
      "Upper limit : 3.0724999999999993\n",
      "\n",
      "Outlier: [3.22, 1.36, 3.23]\n",
      "\n",
      "Indexes greater than upperlimit: Int64Index([25, 121], dtype='int64')\n",
      "\n",
      "Indexes less than lowerlimit: Int64Index([59], dtype='int64')\n",
      "\n",
      "\n",
      "\n",
      "\n",
      "Interquartile range: Ash_Alcanity \n",
      "\n",
      "Q1: 17.2\n",
      "Q2: 19.5\n",
      "Q3: 21.5\n",
      "\n",
      "IQR:4.300000000000001\n",
      "\n",
      "Lower limit : 10.749999999999998\n",
      "Upper limit : 27.950000000000003\n",
      "\n",
      "Outlier: [10.6, 30.0, 28.5, 28.5]\n",
      "\n",
      "Indexes greater than upperlimit: Int64Index([73, 121, 127], dtype='int64')\n",
      "\n",
      "Indexes less than lowerlimit: Int64Index([59], dtype='int64')\n",
      "\n",
      "\n",
      "\n",
      "\n",
      "Interquartile range: Magnesium \n",
      "\n",
      "Q1: 88.0\n",
      "Q2: 98.0\n",
      "Q3: 107.0\n",
      "\n",
      "IQR:19.0\n",
      "\n",
      "Lower limit : 59.5\n",
      "Upper limit : 135.5\n",
      "\n",
      "Outlier: [151, 139, 136, 162]\n",
      "\n",
      "Indexes greater than upperlimit: Int64Index([69, 73, 78, 95], dtype='int64')\n",
      "\n",
      "Indexes less than lowerlimit: Int64Index([], dtype='int64')\n",
      "\n",
      "\n",
      "\n",
      "\n",
      "Interquartile range: Total_Phenols \n",
      "\n",
      "Q1: 1.745\n",
      "Q2: 2.355\n",
      "Q3: 2.8\n",
      "\n",
      "IQR:1.0549999999999997\n",
      "\n",
      "Lower limit : 0.16250000000000053\n",
      "Upper limit : 4.382499999999999\n",
      "\n",
      "Outlier: []\n",
      "\n",
      "Indexes greater than upperlimit: Int64Index([], dtype='int64')\n",
      "\n",
      "Indexes less than lowerlimit: Int64Index([], dtype='int64')\n",
      "\n",
      "\n",
      "\n",
      "\n",
      "Interquartile range: Flavanoids \n",
      "\n",
      "Q1: 1.21\n",
      "Q2: 2.135\n",
      "Q3: 2.87\n",
      "\n",
      "IQR:1.6600000000000001\n",
      "\n",
      "Lower limit : -1.2800000000000002\n",
      "Upper limit : 5.36\n",
      "\n",
      "Outlier: []\n",
      "\n",
      "Indexes greater than upperlimit: Int64Index([], dtype='int64')\n",
      "\n",
      "Indexes less than lowerlimit: Int64Index([], dtype='int64')\n",
      "\n",
      "\n",
      "\n",
      "\n",
      "Interquartile range: Nonflavanoid_Phenols \n",
      "\n",
      "Q1: 0.27\n",
      "Q2: 0.34\n",
      "Q3: 0.435\n",
      "\n",
      "IQR:0.16499999999999998\n",
      "\n",
      "Lower limit : 0.022500000000000048\n",
      "Upper limit : 0.6825\n",
      "\n",
      "Outlier: []\n",
      "\n",
      "Indexes greater than upperlimit: Int64Index([], dtype='int64')\n",
      "\n",
      "Indexes less than lowerlimit: Int64Index([], dtype='int64')\n",
      "\n",
      "\n",
      "\n",
      "\n",
      "Interquartile range: Proanthocyanins \n",
      "\n",
      "Q1: 1.25\n",
      "Q2: 1.5550000000000002\n",
      "Q3: 1.95\n",
      "\n",
      "IQR:0.7\n",
      "\n",
      "Lower limit : 0.20000000000000018\n",
      "Upper limit : 3.0\n",
      "\n",
      "Outlier: [3.28, 3.58]\n",
      "\n",
      "Indexes greater than upperlimit: Int64Index([95, 110], dtype='int64')\n",
      "\n",
      "Indexes less than lowerlimit: Int64Index([], dtype='int64')\n",
      "\n",
      "\n",
      "\n",
      "\n",
      "Interquartile range: Color_Intensity \n",
      "\n",
      "Q1: 3.23\n",
      "Q2: 4.6899999999999995\n",
      "Q3: 6.2\n",
      "\n",
      "IQR:2.97\n",
      "\n",
      "Lower limit : -1.225\n",
      "Upper limit : 10.655000000000001\n",
      "\n",
      "Outlier: [10.8, 13.0, 11.75, 10.68]\n",
      "\n",
      "Indexes greater than upperlimit: Int64Index([151, 158, 159, 166], dtype='int64')\n",
      "\n",
      "Indexes less than lowerlimit: Int64Index([], dtype='int64')\n",
      "\n",
      "\n",
      "\n",
      "\n",
      "Interquartile range: Hue \n",
      "\n",
      "Q1: 0.785\n",
      "Q2: 0.965\n",
      "Q3: 1.12\n",
      "\n",
      "IQR:0.3350000000000001\n",
      "\n",
      "Lower limit : 0.28249999999999986\n",
      "Upper limit : 1.6225000000000003\n",
      "\n",
      "Outlier: [1.71]\n",
      "\n",
      "Indexes greater than upperlimit: Int64Index([115], dtype='int64')\n",
      "\n",
      "Indexes less than lowerlimit: Int64Index([], dtype='int64')\n",
      "\n",
      "\n",
      "\n",
      "\n",
      "Interquartile range: OD280 \n",
      "\n",
      "Q1: 1.9449999999999998\n",
      "Q2: 2.78\n",
      "Q3: 3.17\n",
      "\n",
      "IQR:1.225\n",
      "\n",
      "Lower limit : 0.1074999999999997\n",
      "Upper limit : 5.0075\n",
      "\n",
      "Outlier: []\n",
      "\n",
      "Indexes greater than upperlimit: Int64Index([], dtype='int64')\n",
      "\n",
      "Indexes less than lowerlimit: Int64Index([], dtype='int64')\n",
      "\n",
      "\n",
      "\n",
      "\n",
      "Interquartile range: Proline \n",
      "\n",
      "Q1: 501.0\n",
      "Q2: 673.5\n",
      "Q3: 985.0\n",
      "\n",
      "IQR:484.0\n",
      "\n",
      "Lower limit : -225.0\n",
      "Upper limit : 1711.0\n",
      "\n",
      "Outlier: []\n",
      "\n",
      "Indexes greater than upperlimit: Int64Index([], dtype='int64')\n",
      "\n",
      "Indexes less than lowerlimit: Int64Index([], dtype='int64')\n",
      "\n",
      "\n",
      "\n",
      "\n"
     ]
    }
   ],
   "source": [
    "for i in data.columns:\n",
    "    \n",
    "    # Inter Quartile Range\n",
    "    \n",
    "    Q1 = np.percentile(data[i], 25,interpolation=\"midpoint\")\n",
    "    Q2 = np.percentile(data[i], 50,interpolation=\"midpoint\")\n",
    "    Q3 = np.percentile(data[i], 75,interpolation=\"midpoint\")\n",
    "    print(\"Interquartile range: {} \\n\".format(i))\n",
    "    print(\"Q1: {}\".format(Q1))\n",
    "    print(\"Q2: {}\".format(Q2))\n",
    "    print(\"Q3: {}\\n\".format(Q3))\n",
    "    \n",
    "    IQR = Q3-Q1\n",
    "    print(\"IQR:{}\\n\".format(IQR))\n",
    "    \n",
    "    # Limit identification\n",
    "    \n",
    "    low_limit = Q1-1.5*IQR\n",
    "    up_limit  = Q3+1.5*IQR\n",
    "    print(\"Lower limit : {}\".format(low_limit))\n",
    "    print(\"Upper limit : {}\\n\".format(up_limit))\n",
    "    \n",
    "    \n",
    "    # Finding outlier\n",
    "    \n",
    "    outlier= []\n",
    "    for x in data[i]:\n",
    "        if ((x>up_limit) or (x<low_limit)):\n",
    "            outlier.append(x)\n",
    "    print(\"Outlier: {}\\n\".format(outlier))\n",
    "    \n",
    "    \n",
    "    # Finding index colum with outlier\n",
    "    \n",
    "    #uperlimit outlier\n",
    "\n",
    "    ind_up      = data[i]>up_limit\n",
    "    ind_updata  = data.loc[ind_up].index\n",
    "    print(\"Indexes greater than upperlimit: {}\\n\".format(ind_updata))\n",
    "    \n",
    "    \n",
    "    # lower limit outlier\n",
    "    \n",
    "    ind_low     = data[i]<low_limit\n",
    "    ind_lowdata = data.loc[ind_low].index\n",
    "    print(\"Indexes less than lowerlimit: {}\\n\".format(ind_lowdata))\n",
    "    print(\"\\n\\n\")"
   ]
  },
  {
   "cell_type": "code",
   "execution_count": 11,
   "id": "79be63b1",
   "metadata": {},
   "outputs": [],
   "source": [
    "data.drop([25, 59, 69, 73, 78, 95, 110, 115, 121, 123, 127, 137, 151, 158, 159, 166, 173], inplace =  True)"
   ]
  },
  {
   "cell_type": "code",
   "execution_count": 12,
   "id": "a9d1e286",
   "metadata": {},
   "outputs": [
    {
     "data": {
      "text/html": [
       "<div>\n",
       "<style scoped>\n",
       "    .dataframe tbody tr th:only-of-type {\n",
       "        vertical-align: middle;\n",
       "    }\n",
       "\n",
       "    .dataframe tbody tr th {\n",
       "        vertical-align: top;\n",
       "    }\n",
       "\n",
       "    .dataframe thead th {\n",
       "        text-align: right;\n",
       "    }\n",
       "</style>\n",
       "<table border=\"1\" class=\"dataframe\">\n",
       "  <thead>\n",
       "    <tr style=\"text-align: right;\">\n",
       "      <th></th>\n",
       "      <th>Alcohol</th>\n",
       "      <th>Malic_Acid</th>\n",
       "      <th>Ash</th>\n",
       "      <th>Ash_Alcanity</th>\n",
       "      <th>Magnesium</th>\n",
       "      <th>Total_Phenols</th>\n",
       "      <th>Flavanoids</th>\n",
       "      <th>Nonflavanoid_Phenols</th>\n",
       "      <th>Proanthocyanins</th>\n",
       "      <th>Color_Intensity</th>\n",
       "      <th>Hue</th>\n",
       "      <th>OD280</th>\n",
       "      <th>Proline</th>\n",
       "    </tr>\n",
       "  </thead>\n",
       "  <tbody>\n",
       "    <tr>\n",
       "      <th>0</th>\n",
       "      <td>14.23</td>\n",
       "      <td>1.71</td>\n",
       "      <td>2.43</td>\n",
       "      <td>15.6</td>\n",
       "      <td>127</td>\n",
       "      <td>2.80</td>\n",
       "      <td>3.06</td>\n",
       "      <td>0.28</td>\n",
       "      <td>2.29</td>\n",
       "      <td>5.64</td>\n",
       "      <td>1.04</td>\n",
       "      <td>3.92</td>\n",
       "      <td>1065</td>\n",
       "    </tr>\n",
       "    <tr>\n",
       "      <th>1</th>\n",
       "      <td>13.20</td>\n",
       "      <td>1.78</td>\n",
       "      <td>2.14</td>\n",
       "      <td>11.2</td>\n",
       "      <td>100</td>\n",
       "      <td>2.65</td>\n",
       "      <td>2.76</td>\n",
       "      <td>0.26</td>\n",
       "      <td>1.28</td>\n",
       "      <td>4.38</td>\n",
       "      <td>1.05</td>\n",
       "      <td>3.40</td>\n",
       "      <td>1050</td>\n",
       "    </tr>\n",
       "    <tr>\n",
       "      <th>2</th>\n",
       "      <td>13.16</td>\n",
       "      <td>2.36</td>\n",
       "      <td>2.67</td>\n",
       "      <td>18.6</td>\n",
       "      <td>101</td>\n",
       "      <td>2.80</td>\n",
       "      <td>3.24</td>\n",
       "      <td>0.30</td>\n",
       "      <td>2.81</td>\n",
       "      <td>5.68</td>\n",
       "      <td>1.03</td>\n",
       "      <td>3.17</td>\n",
       "      <td>1185</td>\n",
       "    </tr>\n",
       "    <tr>\n",
       "      <th>3</th>\n",
       "      <td>14.37</td>\n",
       "      <td>1.95</td>\n",
       "      <td>2.50</td>\n",
       "      <td>16.8</td>\n",
       "      <td>113</td>\n",
       "      <td>3.85</td>\n",
       "      <td>3.49</td>\n",
       "      <td>0.24</td>\n",
       "      <td>2.18</td>\n",
       "      <td>7.80</td>\n",
       "      <td>0.86</td>\n",
       "      <td>3.45</td>\n",
       "      <td>1480</td>\n",
       "    </tr>\n",
       "    <tr>\n",
       "      <th>4</th>\n",
       "      <td>13.24</td>\n",
       "      <td>2.59</td>\n",
       "      <td>2.87</td>\n",
       "      <td>21.0</td>\n",
       "      <td>118</td>\n",
       "      <td>2.80</td>\n",
       "      <td>2.69</td>\n",
       "      <td>0.39</td>\n",
       "      <td>1.82</td>\n",
       "      <td>4.32</td>\n",
       "      <td>1.04</td>\n",
       "      <td>2.93</td>\n",
       "      <td>735</td>\n",
       "    </tr>\n",
       "    <tr>\n",
       "      <th>5</th>\n",
       "      <td>14.20</td>\n",
       "      <td>1.76</td>\n",
       "      <td>2.45</td>\n",
       "      <td>15.2</td>\n",
       "      <td>112</td>\n",
       "      <td>3.27</td>\n",
       "      <td>3.39</td>\n",
       "      <td>0.34</td>\n",
       "      <td>1.97</td>\n",
       "      <td>6.75</td>\n",
       "      <td>1.05</td>\n",
       "      <td>2.85</td>\n",
       "      <td>1450</td>\n",
       "    </tr>\n",
       "    <tr>\n",
       "      <th>6</th>\n",
       "      <td>14.39</td>\n",
       "      <td>1.87</td>\n",
       "      <td>2.45</td>\n",
       "      <td>14.6</td>\n",
       "      <td>96</td>\n",
       "      <td>2.50</td>\n",
       "      <td>2.52</td>\n",
       "      <td>0.30</td>\n",
       "      <td>1.98</td>\n",
       "      <td>5.25</td>\n",
       "      <td>1.02</td>\n",
       "      <td>3.58</td>\n",
       "      <td>1290</td>\n",
       "    </tr>\n",
       "    <tr>\n",
       "      <th>7</th>\n",
       "      <td>14.06</td>\n",
       "      <td>2.15</td>\n",
       "      <td>2.61</td>\n",
       "      <td>17.6</td>\n",
       "      <td>121</td>\n",
       "      <td>2.60</td>\n",
       "      <td>2.51</td>\n",
       "      <td>0.31</td>\n",
       "      <td>1.25</td>\n",
       "      <td>5.05</td>\n",
       "      <td>1.06</td>\n",
       "      <td>3.58</td>\n",
       "      <td>1295</td>\n",
       "    </tr>\n",
       "    <tr>\n",
       "      <th>8</th>\n",
       "      <td>14.83</td>\n",
       "      <td>1.64</td>\n",
       "      <td>2.17</td>\n",
       "      <td>14.0</td>\n",
       "      <td>97</td>\n",
       "      <td>2.80</td>\n",
       "      <td>2.98</td>\n",
       "      <td>0.29</td>\n",
       "      <td>1.98</td>\n",
       "      <td>5.20</td>\n",
       "      <td>1.08</td>\n",
       "      <td>2.85</td>\n",
       "      <td>1045</td>\n",
       "    </tr>\n",
       "    <tr>\n",
       "      <th>9</th>\n",
       "      <td>13.86</td>\n",
       "      <td>1.35</td>\n",
       "      <td>2.27</td>\n",
       "      <td>16.0</td>\n",
       "      <td>98</td>\n",
       "      <td>2.98</td>\n",
       "      <td>3.15</td>\n",
       "      <td>0.22</td>\n",
       "      <td>1.85</td>\n",
       "      <td>7.22</td>\n",
       "      <td>1.01</td>\n",
       "      <td>3.55</td>\n",
       "      <td>1045</td>\n",
       "    </tr>\n",
       "    <tr>\n",
       "      <th>10</th>\n",
       "      <td>14.10</td>\n",
       "      <td>2.16</td>\n",
       "      <td>2.30</td>\n",
       "      <td>18.0</td>\n",
       "      <td>105</td>\n",
       "      <td>2.95</td>\n",
       "      <td>3.32</td>\n",
       "      <td>0.22</td>\n",
       "      <td>2.38</td>\n",
       "      <td>5.75</td>\n",
       "      <td>1.25</td>\n",
       "      <td>3.17</td>\n",
       "      <td>1510</td>\n",
       "    </tr>\n",
       "    <tr>\n",
       "      <th>11</th>\n",
       "      <td>14.12</td>\n",
       "      <td>1.48</td>\n",
       "      <td>2.32</td>\n",
       "      <td>16.8</td>\n",
       "      <td>95</td>\n",
       "      <td>2.20</td>\n",
       "      <td>2.43</td>\n",
       "      <td>0.26</td>\n",
       "      <td>1.57</td>\n",
       "      <td>5.00</td>\n",
       "      <td>1.17</td>\n",
       "      <td>2.82</td>\n",
       "      <td>1280</td>\n",
       "    </tr>\n",
       "    <tr>\n",
       "      <th>12</th>\n",
       "      <td>13.75</td>\n",
       "      <td>1.73</td>\n",
       "      <td>2.41</td>\n",
       "      <td>16.0</td>\n",
       "      <td>89</td>\n",
       "      <td>2.60</td>\n",
       "      <td>2.76</td>\n",
       "      <td>0.29</td>\n",
       "      <td>1.81</td>\n",
       "      <td>5.60</td>\n",
       "      <td>1.15</td>\n",
       "      <td>2.90</td>\n",
       "      <td>1320</td>\n",
       "    </tr>\n",
       "    <tr>\n",
       "      <th>13</th>\n",
       "      <td>14.75</td>\n",
       "      <td>1.73</td>\n",
       "      <td>2.39</td>\n",
       "      <td>11.4</td>\n",
       "      <td>91</td>\n",
       "      <td>3.10</td>\n",
       "      <td>3.69</td>\n",
       "      <td>0.43</td>\n",
       "      <td>2.81</td>\n",
       "      <td>5.40</td>\n",
       "      <td>1.25</td>\n",
       "      <td>2.73</td>\n",
       "      <td>1150</td>\n",
       "    </tr>\n",
       "    <tr>\n",
       "      <th>14</th>\n",
       "      <td>14.38</td>\n",
       "      <td>1.87</td>\n",
       "      <td>2.38</td>\n",
       "      <td>12.0</td>\n",
       "      <td>102</td>\n",
       "      <td>3.30</td>\n",
       "      <td>3.64</td>\n",
       "      <td>0.29</td>\n",
       "      <td>2.96</td>\n",
       "      <td>7.50</td>\n",
       "      <td>1.20</td>\n",
       "      <td>3.00</td>\n",
       "      <td>1547</td>\n",
       "    </tr>\n",
       "  </tbody>\n",
       "</table>\n",
       "</div>"
      ],
      "text/plain": [
       "    Alcohol  Malic_Acid   Ash  Ash_Alcanity  Magnesium  Total_Phenols  \\\n",
       "0     14.23        1.71  2.43          15.6        127           2.80   \n",
       "1     13.20        1.78  2.14          11.2        100           2.65   \n",
       "2     13.16        2.36  2.67          18.6        101           2.80   \n",
       "3     14.37        1.95  2.50          16.8        113           3.85   \n",
       "4     13.24        2.59  2.87          21.0        118           2.80   \n",
       "5     14.20        1.76  2.45          15.2        112           3.27   \n",
       "6     14.39        1.87  2.45          14.6         96           2.50   \n",
       "7     14.06        2.15  2.61          17.6        121           2.60   \n",
       "8     14.83        1.64  2.17          14.0         97           2.80   \n",
       "9     13.86        1.35  2.27          16.0         98           2.98   \n",
       "10    14.10        2.16  2.30          18.0        105           2.95   \n",
       "11    14.12        1.48  2.32          16.8         95           2.20   \n",
       "12    13.75        1.73  2.41          16.0         89           2.60   \n",
       "13    14.75        1.73  2.39          11.4         91           3.10   \n",
       "14    14.38        1.87  2.38          12.0        102           3.30   \n",
       "\n",
       "    Flavanoids  Nonflavanoid_Phenols  Proanthocyanins  Color_Intensity   Hue  \\\n",
       "0         3.06                  0.28             2.29             5.64  1.04   \n",
       "1         2.76                  0.26             1.28             4.38  1.05   \n",
       "2         3.24                  0.30             2.81             5.68  1.03   \n",
       "3         3.49                  0.24             2.18             7.80  0.86   \n",
       "4         2.69                  0.39             1.82             4.32  1.04   \n",
       "5         3.39                  0.34             1.97             6.75  1.05   \n",
       "6         2.52                  0.30             1.98             5.25  1.02   \n",
       "7         2.51                  0.31             1.25             5.05  1.06   \n",
       "8         2.98                  0.29             1.98             5.20  1.08   \n",
       "9         3.15                  0.22             1.85             7.22  1.01   \n",
       "10        3.32                  0.22             2.38             5.75  1.25   \n",
       "11        2.43                  0.26             1.57             5.00  1.17   \n",
       "12        2.76                  0.29             1.81             5.60  1.15   \n",
       "13        3.69                  0.43             2.81             5.40  1.25   \n",
       "14        3.64                  0.29             2.96             7.50  1.20   \n",
       "\n",
       "    OD280  Proline  \n",
       "0    3.92     1065  \n",
       "1    3.40     1050  \n",
       "2    3.17     1185  \n",
       "3    3.45     1480  \n",
       "4    2.93      735  \n",
       "5    2.85     1450  \n",
       "6    3.58     1290  \n",
       "7    3.58     1295  \n",
       "8    2.85     1045  \n",
       "9    3.55     1045  \n",
       "10   3.17     1510  \n",
       "11   2.82     1280  \n",
       "12   2.90     1320  \n",
       "13   2.73     1150  \n",
       "14   3.00     1547  "
      ]
     },
     "execution_count": 12,
     "metadata": {},
     "output_type": "execute_result"
    }
   ],
   "source": [
    "data.head(15)"
   ]
  },
  {
   "cell_type": "markdown",
   "id": "2b1a6141",
   "metadata": {},
   "source": [
    "### Standard Scaling  "
   ]
  },
  {
   "cell_type": "code",
   "execution_count": 13,
   "id": "e94f6f94",
   "metadata": {},
   "outputs": [],
   "source": [
    "from sklearn.preprocessing import StandardScaler"
   ]
  },
  {
   "cell_type": "code",
   "execution_count": 14,
   "id": "a1382dc7",
   "metadata": {},
   "outputs": [],
   "source": [
    "stdsclr = StandardScaler()"
   ]
  },
  {
   "cell_type": "code",
   "execution_count": 15,
   "id": "754e4de2",
   "metadata": {},
   "outputs": [],
   "source": [
    "X= stdsclr.fit_transform(data)"
   ]
  },
  {
   "cell_type": "code",
   "execution_count": 16,
   "id": "bd4f280c",
   "metadata": {},
   "outputs": [
    {
     "data": {
      "text/plain": [
       "numpy.ndarray"
      ]
     },
     "execution_count": 16,
     "metadata": {},
     "output_type": "execute_result"
    }
   ],
   "source": [
    "type(X)"
   ]
  },
  {
   "cell_type": "code",
   "execution_count": 17,
   "id": "935a11bb",
   "metadata": {},
   "outputs": [],
   "source": [
    "X1 =pd.DataFrame(X,columns=data.columns)"
   ]
  },
  {
   "cell_type": "code",
   "execution_count": 18,
   "id": "60cf42d9",
   "metadata": {},
   "outputs": [
    {
     "data": {
      "text/html": [
       "<div>\n",
       "<style scoped>\n",
       "    .dataframe tbody tr th:only-of-type {\n",
       "        vertical-align: middle;\n",
       "    }\n",
       "\n",
       "    .dataframe tbody tr th {\n",
       "        vertical-align: top;\n",
       "    }\n",
       "\n",
       "    .dataframe thead th {\n",
       "        text-align: right;\n",
       "    }\n",
       "</style>\n",
       "<table border=\"1\" class=\"dataframe\">\n",
       "  <thead>\n",
       "    <tr style=\"text-align: right;\">\n",
       "      <th></th>\n",
       "      <th>Alcohol</th>\n",
       "      <th>Malic_Acid</th>\n",
       "      <th>Ash</th>\n",
       "      <th>Ash_Alcanity</th>\n",
       "      <th>Magnesium</th>\n",
       "      <th>Total_Phenols</th>\n",
       "      <th>Flavanoids</th>\n",
       "      <th>Nonflavanoid_Phenols</th>\n",
       "      <th>Proanthocyanins</th>\n",
       "      <th>Color_Intensity</th>\n",
       "      <th>Hue</th>\n",
       "      <th>OD280</th>\n",
       "      <th>Proline</th>\n",
       "    </tr>\n",
       "  </thead>\n",
       "  <tbody>\n",
       "    <tr>\n",
       "      <th>0</th>\n",
       "      <td>1.495711</td>\n",
       "      <td>-0.571130</td>\n",
       "      <td>0.277425</td>\n",
       "      <td>-1.208619</td>\n",
       "      <td>2.309259</td>\n",
       "      <td>0.808420</td>\n",
       "      <td>1.034224</td>\n",
       "      <td>-0.643463</td>\n",
       "      <td>1.415284</td>\n",
       "      <td>0.296494</td>\n",
       "      <td>0.372149</td>\n",
       "      <td>1.826678</td>\n",
       "      <td>0.947436</td>\n",
       "    </tr>\n",
       "    <tr>\n",
       "      <th>1</th>\n",
       "      <td>0.200698</td>\n",
       "      <td>-0.504145</td>\n",
       "      <td>-0.928625</td>\n",
       "      <td>-2.672685</td>\n",
       "      <td>0.118914</td>\n",
       "      <td>0.570475</td>\n",
       "      <td>0.728906</td>\n",
       "      <td>-0.808165</td>\n",
       "      <td>-0.511374</td>\n",
       "      <td>-0.300438</td>\n",
       "      <td>0.418153</td>\n",
       "      <td>1.091015</td>\n",
       "      <td>0.900976</td>\n",
       "    </tr>\n",
       "    <tr>\n",
       "      <th>2</th>\n",
       "      <td>0.150407</td>\n",
       "      <td>0.050878</td>\n",
       "      <td>1.275535</td>\n",
       "      <td>-0.210392</td>\n",
       "      <td>0.200038</td>\n",
       "      <td>0.808420</td>\n",
       "      <td>1.217414</td>\n",
       "      <td>-0.478761</td>\n",
       "      <td>2.407227</td>\n",
       "      <td>0.315445</td>\n",
       "      <td>0.326144</td>\n",
       "      <td>0.765626</td>\n",
       "      <td>1.319115</td>\n",
       "    </tr>\n",
       "    <tr>\n",
       "      <th>3</th>\n",
       "      <td>1.671732</td>\n",
       "      <td>-0.341465</td>\n",
       "      <td>0.568540</td>\n",
       "      <td>-0.809329</td>\n",
       "      <td>1.173525</td>\n",
       "      <td>2.474030</td>\n",
       "      <td>1.471845</td>\n",
       "      <td>-0.972867</td>\n",
       "      <td>1.205450</td>\n",
       "      <td>1.319806</td>\n",
       "      <td>-0.455928</td>\n",
       "      <td>1.161752</td>\n",
       "      <td>2.232826</td>\n",
       "    </tr>\n",
       "    <tr>\n",
       "      <th>4</th>\n",
       "      <td>0.250990</td>\n",
       "      <td>0.270973</td>\n",
       "      <td>2.107293</td>\n",
       "      <td>0.588189</td>\n",
       "      <td>1.579144</td>\n",
       "      <td>0.808420</td>\n",
       "      <td>0.657665</td>\n",
       "      <td>0.262398</td>\n",
       "      <td>0.518720</td>\n",
       "      <td>-0.328863</td>\n",
       "      <td>0.372149</td>\n",
       "      <td>0.426090</td>\n",
       "      <td>-0.074682</td>\n",
       "    </tr>\n",
       "  </tbody>\n",
       "</table>\n",
       "</div>"
      ],
      "text/plain": [
       "    Alcohol  Malic_Acid       Ash  Ash_Alcanity  Magnesium  Total_Phenols  \\\n",
       "0  1.495711   -0.571130  0.277425     -1.208619   2.309259       0.808420   \n",
       "1  0.200698   -0.504145 -0.928625     -2.672685   0.118914       0.570475   \n",
       "2  0.150407    0.050878  1.275535     -0.210392   0.200038       0.808420   \n",
       "3  1.671732   -0.341465  0.568540     -0.809329   1.173525       2.474030   \n",
       "4  0.250990    0.270973  2.107293      0.588189   1.579144       0.808420   \n",
       "\n",
       "   Flavanoids  Nonflavanoid_Phenols  Proanthocyanins  Color_Intensity  \\\n",
       "0    1.034224             -0.643463         1.415284         0.296494   \n",
       "1    0.728906             -0.808165        -0.511374        -0.300438   \n",
       "2    1.217414             -0.478761         2.407227         0.315445   \n",
       "3    1.471845             -0.972867         1.205450         1.319806   \n",
       "4    0.657665              0.262398         0.518720        -0.328863   \n",
       "\n",
       "        Hue     OD280   Proline  \n",
       "0  0.372149  1.826678  0.947436  \n",
       "1  0.418153  1.091015  0.900976  \n",
       "2  0.326144  0.765626  1.319115  \n",
       "3 -0.455928  1.161752  2.232826  \n",
       "4  0.372149  0.426090 -0.074682  "
      ]
     },
     "execution_count": 18,
     "metadata": {},
     "output_type": "execute_result"
    }
   ],
   "source": [
    "X1.head()"
   ]
  },
  {
   "cell_type": "markdown",
   "id": "bf1f2421",
   "metadata": {},
   "source": [
    "### K Means Clustering  "
   ]
  },
  {
   "cell_type": "markdown",
   "id": "30ccf5cb",
   "metadata": {},
   "source": [
    "#### The Elbow Method "
   ]
  },
  {
   "cell_type": "code",
   "execution_count": 19,
   "id": "a930e626",
   "metadata": {},
   "outputs": [
    {
     "name": "stderr",
     "output_type": "stream",
     "text": [
      "C:\\Users\\FISAL\\anaconda3\\lib\\site-packages\\sklearn\\cluster\\_kmeans.py:1036: UserWarning: KMeans is known to have a memory leak on Windows with MKL, when there are less chunks than available threads. You can avoid it by setting the environment variable OMP_NUM_THREADS=1.\n",
      "  warnings.warn(\n"
     ]
    },
    {
     "data": {
      "image/png": "[encoded data removed]",
      "text/plain": [
       "<Figure size 432x288 with 1 Axes>"
      ]
     },
     "metadata": {
      "needs_background": "light"
     },
     "output_type": "display_data"
    }
   ],
   "source": [
    "from sklearn.cluster import KMeans\n",
    "wcss = []\n",
    "for i in range(1,11):\n",
    "    kmeans = KMeans(n_clusters=i ,init='k-means++' ,random_state=42)\n",
    "    kmeans.fit(X1)\n",
    "    wcss.append(kmeans.inertia_)\n",
    "plt.plot(range(1,11),wcss)\n",
    "plt.title('The Elbow Method')\n",
    "plt.xlabel('The Number of Clusters')\n",
    "plt.ylabel('WCSS')\n",
    "plt.show()"
   ]
  },
  {
   "cell_type": "code",
   "execution_count": 20,
   "id": "6846b97e",
   "metadata": {},
   "outputs": [],
   "source": [
    "#Here the number of clusters is 3"
   ]
  },
  {
   "cell_type": "code",
   "execution_count": 21,
   "id": "2bb2bb86",
   "metadata": {},
   "outputs": [],
   "source": [
    "kmeans = KMeans(n_clusters=4 ,init='k-means++' ,random_state=42)\n",
    "y_kmeans = kmeans.fit_predict(X1)"
   ]
  },
  {
   "cell_type": "code",
   "execution_count": 22,
   "id": "733b45cd",
   "metadata": {},
   "outputs": [
    {
     "data": {
      "text/plain": [
       "array([1, 1, 1, 1, 1, 1, 1, 1, 1, 1, 1, 1, 1, 1, 1, 1, 1, 1, 1, 1, 1, 1,\n",
       "       1, 1, 1, 1, 1, 1, 1, 1, 1, 1, 1, 1, 1, 1, 1, 2, 1, 1, 2, 1, 2, 1,\n",
       "       1, 1, 1, 1, 1, 1, 1, 1, 1, 1, 1, 1, 1, 1, 0, 0, 2, 2, 0, 2, 2, 2,\n",
       "       0, 0, 2, 2, 2, 2, 2, 0, 2, 2, 2, 0, 3, 2, 2, 0, 0, 0, 0, 0, 0, 0,\n",
       "       2, 2, 0, 2, 2, 2, 2, 2, 2, 2, 2, 0, 2, 0, 2, 2, 2, 0, 0, 0, 2, 2,\n",
       "       3, 2, 2, 0, 2, 2, 2, 2, 0, 3, 3, 3, 3, 0, 3, 3, 3, 3, 3, 3, 3, 3,\n",
       "       3, 3, 3, 3, 3, 3, 3, 3, 3, 3, 3, 3, 3, 3, 3, 3, 3, 3, 3, 3, 3, 3,\n",
       "       3, 3, 3, 3, 3, 3, 3])"
      ]
     },
     "execution_count": 22,
     "metadata": {},
     "output_type": "execute_result"
    }
   ],
   "source": [
    "y_kmeans"
   ]
  },
  {
   "cell_type": "markdown",
   "id": "dc97888c",
   "metadata": {},
   "source": [
    "#### Silhoutte Score "
   ]
  },
  {
   "cell_type": "code",
   "execution_count": 23,
   "id": "040b2354",
   "metadata": {},
   "outputs": [],
   "source": [
    "from sklearn.metrics import silhouette_score"
   ]
  },
  {
   "cell_type": "code",
   "execution_count": 24,
   "id": "69b01c0f",
   "metadata": {},
   "outputs": [],
   "source": [
    "sil_avg = silhouette_score(X1,y_kmeans)"
   ]
  },
  {
   "cell_type": "code",
   "execution_count": 25,
   "id": "3aadd5f7",
   "metadata": {},
   "outputs": [
    {
     "data": {
      "text/plain": [
       "0.24616383158422128"
      ]
     },
     "execution_count": 25,
     "metadata": {},
     "output_type": "execute_result"
    }
   ],
   "source": [
    "sil_avg"
   ]
  },
  {
   "cell_type": "markdown",
   "id": "4b4df1b7",
   "metadata": {},
   "source": [
    "### Agglomerative Heirarchial Clustering "
   ]
  },
  {
   "cell_type": "markdown",
   "id": "4008bc71",
   "metadata": {},
   "source": [
    "#### Dendogram "
   ]
  },
  {
   "cell_type": "code",
   "execution_count": 26,
   "id": "5b9e3efc",
   "metadata": {},
   "outputs": [],
   "source": [
    "import scipy.cluster.hierarchy as sch"
   ]
  },
  {
   "cell_type": "code",
   "execution_count": 27,
   "id": "63a8bf3a",
   "metadata": {},
   "outputs": [
    {
     "data": {
      "image/png": "[encoded data removed]",
      "text/plain": [
       "<Figure size 432x288 with 1 Axes>"
      ]
     },
     "metadata": {
      "needs_background": "light"
     },
     "output_type": "display_data"
    }
   ],
   "source": [
    "dendrogram = sch.dendrogram(sch.linkage(X1,method='ward'))\n",
    "plt.title('Dendrograms')\n",
    "plt.xlabel('Customers')\n",
    "plt.ylabel('Euclidean Distance')\n",
    "plt.show()"
   ]
  },
  {
   "cell_type": "code",
   "execution_count": 28,
   "id": "24864e38",
   "metadata": {},
   "outputs": [],
   "source": [
    "from sklearn.cluster import AgglomerativeClustering"
   ]
  },
  {
   "cell_type": "code",
   "execution_count": 29,
   "id": "29b37153",
   "metadata": {},
   "outputs": [],
   "source": [
    "hc = AgglomerativeClustering(n_clusters=3, affinity='euclidean'\n",
    "                            ,linkage='ward')\n",
    "y_hc = hc.fit_predict(X1)"
   ]
  },
  {
   "cell_type": "code",
   "execution_count": 30,
   "id": "9a6587d2",
   "metadata": {},
   "outputs": [
    {
     "data": {
      "text/plain": [
       "array([1, 1, 1, 1, 1, 1, 1, 1, 1, 1, 1, 1, 1, 1, 1, 1, 1, 1, 1, 1, 1, 1,\n",
       "       1, 1, 1, 1, 1, 1, 1, 1, 1, 1, 1, 1, 1, 1, 1, 1, 1, 1, 1, 1, 1, 1,\n",
       "       1, 1, 1, 1, 1, 1, 1, 1, 1, 1, 1, 1, 1, 1, 0, 0, 2, 2, 2, 1, 1, 2,\n",
       "       0, 0, 2, 2, 2, 2, 2, 0, 2, 2, 2, 2, 0, 2, 2, 2, 2, 2, 2, 2, 2, 2,\n",
       "       2, 2, 0, 2, 2, 2, 2, 2, 2, 2, 2, 2, 2, 2, 2, 2, 2, 2, 2, 2, 2, 2,\n",
       "       0, 2, 2, 2, 2, 2, 2, 2, 0, 0, 0, 0, 0, 0, 0, 0, 0, 0, 0, 0, 0, 0,\n",
       "       0, 0, 0, 0, 0, 0, 0, 0, 0, 0, 0, 0, 0, 0, 0, 0, 0, 0, 0, 0, 0, 0,\n",
       "       0, 0, 0, 0, 0, 0, 0], dtype=int64)"
      ]
     },
     "execution_count": 30,
     "metadata": {},
     "output_type": "execute_result"
    }
   ],
   "source": [
    "y_hc"
   ]
  },
  {
   "cell_type": "markdown",
   "id": "8e26f344",
   "metadata": {},
   "source": [
    "#### Silhouette Score "
   ]
  },
  {
   "cell_type": "code",
   "execution_count": 31,
   "id": "cd7c8a63",
   "metadata": {},
   "outputs": [],
   "source": [
    "from sklearn.metrics import silhouette_score"
   ]
  },
  {
   "cell_type": "code",
   "execution_count": 32,
   "id": "db1b56b4",
   "metadata": {},
   "outputs": [],
   "source": [
    "sil_avg = silhouette_score(X1,y_hc)"
   ]
  },
  {
   "cell_type": "code",
   "execution_count": 33,
   "id": "c86fc078",
   "metadata": {},
   "outputs": [
    {
     "data": {
      "text/plain": [
       "0.2926994028296366"
      ]
     },
     "execution_count": 33,
     "metadata": {},
     "output_type": "execute_result"
    }
   ],
   "source": [
    "sil_avg"
   ]
  },
  {
   "cell_type": "markdown",
   "id": "3a3a93c6",
   "metadata": {},
   "source": [
    "### DB Scan  "
   ]
  },
  {
   "cell_type": "code",
   "execution_count": 34,
   "id": "0c231c9f",
   "metadata": {},
   "outputs": [],
   "source": [
    "from sklearn.neighbors import NearestNeighbors"
   ]
  },
  {
   "cell_type": "code",
   "execution_count": 35,
   "id": "837e3105",
   "metadata": {},
   "outputs": [],
   "source": [
    "nbrs = NearestNeighbors(n_neighbors =26).fit(X1)"
   ]
  },
  {
   "cell_type": "code",
   "execution_count": 36,
   "id": "9251cc30",
   "metadata": {},
   "outputs": [],
   "source": [
    "nb_dist,nb_ind =nbrs.kneighbors(X1)"
   ]
  },
  {
   "cell_type": "code",
   "execution_count": 37,
   "id": "057e7036",
   "metadata": {},
   "outputs": [],
   "source": [
    "sort_nb_dist =np.sort(nb_dist,axis=0)"
   ]
  },
  {
   "cell_type": "code",
   "execution_count": 38,
   "id": "9f7e322d",
   "metadata": {},
   "outputs": [
    {
     "data": {
      "text/plain": [
       "NearestNeighbors(n_neighbors=26)"
      ]
     },
     "execution_count": 38,
     "metadata": {},
     "output_type": "execute_result"
    }
   ],
   "source": [
    "nbrs"
   ]
  },
  {
   "cell_type": "code",
   "execution_count": 68,
   "id": "ebefeb73",
   "metadata": {},
   "outputs": [
    {
     "data": {
      "image/png": "[encoded data removed]",
      "text/plain": [
       "<Figure size 432x288 with 1 Axes>"
      ]
     },
     "metadata": {
      "needs_background": "light"
     },
     "output_type": "display_data"
    }
   ],
   "source": [
    "k_dist= sort_nb_dist[:,25]\n",
    "plt.plot(k_dist)\n",
    "plt.axhline(y=2.5,linewidth=1,linestyle='dashed',color='m')\n",
    "plt.ylabel('KNN Distance')\n",
    "plt.xlabel('Sorted Observation')\n",
    "plt.show()\n"
   ]
  },
  {
   "cell_type": "code",
   "execution_count": 69,
   "id": "6f3e1ad3",
   "metadata": {},
   "outputs": [],
   "source": [
    "from sklearn.cluster import DBSCAN"
   ]
  },
  {
   "cell_type": "code",
   "execution_count": 70,
   "id": "0c8f951b",
   "metadata": {},
   "outputs": [],
   "source": [
    "# Define the model with eps=2.5 and minPts=26\n",
    "dbscan = DBSCAN(eps=2.5, min_samples=26)"
   ]
  },
  {
   "cell_type": "code",
   "execution_count": 71,
   "id": "610729eb",
   "metadata": {},
   "outputs": [
    {
     "data": {
      "text/plain": [
       "DBSCAN(eps=2.5, min_samples=26)"
      ]
     },
     "execution_count": 71,
     "metadata": {},
     "output_type": "execute_result"
    }
   ],
   "source": [
    "# Fit the model to the dataset\n",
    "dbscan.fit(X1)"
   ]
  },
  {
   "cell_type": "code",
   "execution_count": 72,
   "id": "6ff5bd9b",
   "metadata": {},
   "outputs": [],
   "source": [
    "# Predict the cluster labels\n",
    "labels = dbscan.labels_"
   ]
  },
  {
   "cell_type": "code",
   "execution_count": 73,
   "id": "29a3413a",
   "metadata": {},
   "outputs": [
    {
     "data": {
      "text/plain": [
       "array([-1, -1,  0, -1, -1,  0,  0, -1,  0,  0,  0,  0,  0, -1, -1, -1,  0,\n",
       "        0, -1, -1, -1, -1, -1, -1, -1, -1, -1, -1,  0,  0,  0,  0, -1,  0,\n",
       "        0, -1, -1, -1, -1,  0, -1, -1, -1, -1, -1,  0,  0,  0,  0, -1,  0,\n",
       "       -1,  0, -1,  0,  0,  0,  0, -1, -1, -1, -1, -1, -1, -1, -1, -1, -1,\n",
       "       -1, -1, -1, -1, -1, -1, -1, -1, -1, -1, -1, -1, -1, -1, -1, -1, -1,\n",
       "       -1, -1, -1, -1, -1, -1, -1, -1, -1, -1, -1, -1, -1, -1, -1, -1, -1,\n",
       "       -1, -1, -1, -1, -1, -1, -1, -1, -1, -1, -1, -1, -1, -1, -1, -1, -1,\n",
       "       -1, -1, -1, -1, -1, -1, -1, -1, -1, -1, -1, -1, -1, -1, -1, -1, -1,\n",
       "       -1, -1, -1, -1, -1, -1, -1, -1, -1, -1, -1, -1, -1, -1, -1, -1, -1,\n",
       "       -1, -1, -1, -1, -1, -1, -1, -1], dtype=int64)"
      ]
     },
     "execution_count": 73,
     "metadata": {},
     "output_type": "execute_result"
    }
   ],
   "source": [
    "# Print the cluster label\n",
    "labels"
   ]
  },
  {
   "cell_type": "code",
   "execution_count": 74,
   "id": "b37826b2",
   "metadata": {},
   "outputs": [],
   "source": [
    "sil_avg = silhouette_score(X1,labels)"
   ]
  },
  {
   "cell_type": "code",
   "execution_count": 75,
   "id": "d2b4b24d",
   "metadata": {},
   "outputs": [
    {
     "data": {
      "text/plain": [
       "0.09101863617843622"
      ]
     },
     "execution_count": 75,
     "metadata": {},
     "output_type": "execute_result"
    }
   ],
   "source": [
    "sil_avg"
   ]
  },
  {
   "cell_type": "code",
   "execution_count": null,
   "id": "e8e24b08",
   "metadata": {},
   "outputs": [],
   "source": [
    "#Agglomorative Heirarchial Clustering is the Optimum no of clusters "
   ]
  }
 ],
 "metadata": {
  "kernelspec": {
   "display_name": "Python 3 (ipykernel)",
   "language": "python",
   "name": "python3"
  },
  "language_info": {
   "codemirror_mode": {
    "name": "ipython",
    "version": 3
   },
   "file_extension": ".py",
   "mimetype": "text/x-python",
   "name": "python",
   "nbconvert_exporter": "python",
   "pygments_lexer": "ipython3",
   "version": "3.9.12"
  }
 },
 "nbformat": 4,
 "nbformat_minor": 5
}
